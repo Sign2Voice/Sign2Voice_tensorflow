{
 "cells": [
  {
   "cell_type": "code",
   "execution_count": 1,
   "metadata": {},
   "outputs": [],
   "source": [
    "# setup paths\n",
    "WORKSPACE_PATH = 'Tensorflow/workspace'\n",
    "SCRIPTS_PATH = 'Tensorflow/scripts'\n",
    "APIMODEL_PATH = 'Tensorflow/models'\n",
    "ANNOTATION_PATH = WORKSPACE_PATH+'/annotations'\n",
    "IMAGE_PATH = WORKSPACE_PATH+'/images'\n",
    "MODEL_PATH = WORKSPACE_PATH+'/models'\n",
    "PRETRAINED_MODEL_PATH = WORKSPACE_PATH+'/pre-trained-models'\n",
    "CONFIG_PATH = MODEL_PATH+'/my_ssd_mobnet/pipeline.config'\n",
    "CHECKPOINT_PATH = MODEL_PATH+'/my_ssd_mobnet/'"
   ]
  },
  {
   "cell_type": "markdown",
   "metadata": {},
   "source": [
    "# CREATE label map"
   ]
  },
  {
   "cell_type": "code",
   "execution_count": 3,
   "metadata": {},
   "outputs": [],
   "source": [
    "# create label map - add all sign language glosses in sequential order\n",
    "\n",
    "labels = [\n",
    "    # phoenix sample glosses\n",
    "    {'name':'montag', 'id':1},    \n",
    "    {'name':'auch', 'id':2},  \n",
    "    {'name':'mehr', 'id':3},  \n",
    "    {'name':'wolke', 'id':4},  \n",
    "    {'name':'als', 'id':5},  \n",
    "    {'name':'sonne', 'id':6},  \n",
    "    {'name':'ueberwiegend', 'id':7},  \n",
    "    {'name':'regen', 'id':8},  \n",
    "    {'name':'gewitter', 'id':9},  \n",
    "    ]\n",
    "\n",
    "with open(ANNOTATION_PATH + '/label_map.pbtxt', 'w') as f:\n",
    "    for label in labels:\n",
    "        f.write('item {\\n') # space removed\n",
    "        f.write('\\tname:\\'{}\\'\\n'.format(label['name']))\n",
    "        f.write('\\tid:{}\\n'.format(label['id']))\n",
    "        f.write('}\\n')"
   ]
  },
  {
   "cell_type": "markdown",
   "metadata": {},
   "source": [
    "# CREATE tfrecord file"
   ]
  },
  {
   "cell_type": "code",
   "execution_count": 4,
   "metadata": {},
   "outputs": [
    {
     "name": "stdout",
     "output_type": "stream",
     "text": [
      "Cloning into 'models'...\n",
      "remote: Enumerating objects: 99249, done.\u001b[K\n",
      "remote: Counting objects: 100% (128/128), done.\u001b[K\n",
      "remote: Compressing objects: 100% (94/94), done.\u001b[K\n",
      "remote: Total 99249 (delta 60), reused 47 (delta 32), pack-reused 99121 (from 5)\u001b[K\n",
      "Receiving objects: 100% (99249/99249), 622.93 MiB | 22.08 MiB/s, done.\n",
      "Resolving deltas: 100% (72119/72119), done.\n"
     ]
    }
   ],
   "source": [
    "# downloading pretrained tf models from tf model zoo\n",
    "!cd Tensorflow && git clone https://github.com/tensorflow/models"
   ]
  },
  {
   "cell_type": "code",
   "execution_count": null,
   "metadata": {},
   "outputs": [],
   "source": [
    "# installing object detection module (below)"
   ]
  },
  {
   "cell_type": "code",
   "execution_count": 5,
   "metadata": {},
   "outputs": [
    {
     "name": "stdout",
     "output_type": "stream",
     "text": [
      "Processing /Users/maximilianscheel/neuefische/capstone_project/sign2voice_rtod/slr_tf_rtod/Tensorflow/models/research\n",
      "  Preparing metadata (setup.py): started\n",
      "  Preparing metadata (setup.py): finished with status 'done'\n",
      "Requirement already satisfied: pillow in /Users/maximilianscheel/neuefische/capstone_project/sign2voice_rtod/.venv/lib/python3.10/site-packages (from object_detection==0.1) (11.1.0)\n",
      "Requirement already satisfied: lxml in /Users/maximilianscheel/neuefische/capstone_project/sign2voice_rtod/.venv/lib/python3.10/site-packages (from object_detection==0.1) (5.3.0)\n",
      "Requirement already satisfied: matplotlib in /Users/maximilianscheel/neuefische/capstone_project/sign2voice_rtod/.venv/lib/python3.10/site-packages (from object_detection==0.1) (3.10.0)\n",
      "Requirement already satisfied: Cython in /Users/maximilianscheel/neuefische/capstone_project/sign2voice_rtod/.venv/lib/python3.10/site-packages (from object_detection==0.1) (3.0.11)\n",
      "Requirement already satisfied: contextlib2 in /Users/maximilianscheel/neuefische/capstone_project/sign2voice_rtod/.venv/lib/python3.10/site-packages (from object_detection==0.1) (21.6.0)\n",
      "Requirement already satisfied: tf-slim in /Users/maximilianscheel/neuefische/capstone_project/sign2voice_rtod/.venv/lib/python3.10/site-packages (from object_detection==0.1) (1.1.0)\n",
      "Requirement already satisfied: six in /Users/maximilianscheel/neuefische/capstone_project/sign2voice_rtod/.venv/lib/python3.10/site-packages (from object_detection==0.1) (1.17.0)\n",
      "Requirement already satisfied: pycocotools in /Users/maximilianscheel/neuefische/capstone_project/sign2voice_rtod/.venv/lib/python3.10/site-packages (from object_detection==0.1) (2.0.8)\n",
      "Requirement already satisfied: lvis in /Users/maximilianscheel/neuefische/capstone_project/sign2voice_rtod/.venv/lib/python3.10/site-packages (from object_detection==0.1) (0.5.3)\n",
      "Requirement already satisfied: scipy in /Users/maximilianscheel/neuefische/capstone_project/sign2voice_rtod/.venv/lib/python3.10/site-packages (from object_detection==0.1) (1.15.1)\n",
      "Requirement already satisfied: pandas in /Users/maximilianscheel/neuefische/capstone_project/sign2voice_rtod/.venv/lib/python3.10/site-packages (from object_detection==0.1) (2.2.3)\n",
      "Requirement already satisfied: cycler>=0.10.0 in /Users/maximilianscheel/neuefische/capstone_project/sign2voice_rtod/.venv/lib/python3.10/site-packages (from lvis->object_detection==0.1) (0.12.1)\n",
      "Requirement already satisfied: kiwisolver>=1.1.0 in /Users/maximilianscheel/neuefische/capstone_project/sign2voice_rtod/.venv/lib/python3.10/site-packages (from lvis->object_detection==0.1) (1.4.8)\n",
      "Requirement already satisfied: numpy>=1.18.2 in /Users/maximilianscheel/neuefische/capstone_project/sign2voice_rtod/.venv/lib/python3.10/site-packages (from lvis->object_detection==0.1) (1.24.3)\n",
      "Requirement already satisfied: opencv-python>=4.1.0.25 in /Users/maximilianscheel/neuefische/capstone_project/sign2voice_rtod/.venv/lib/python3.10/site-packages (from lvis->object_detection==0.1) (4.11.0.86)\n",
      "Requirement already satisfied: pyparsing>=2.4.0 in /Users/maximilianscheel/neuefische/capstone_project/sign2voice_rtod/.venv/lib/python3.10/site-packages (from lvis->object_detection==0.1) (3.2.1)\n",
      "Requirement already satisfied: python-dateutil>=2.8.0 in /Users/maximilianscheel/neuefische/capstone_project/sign2voice_rtod/.venv/lib/python3.10/site-packages (from lvis->object_detection==0.1) (2.9.0.post0)\n",
      "Requirement already satisfied: contourpy>=1.0.1 in /Users/maximilianscheel/neuefische/capstone_project/sign2voice_rtod/.venv/lib/python3.10/site-packages (from matplotlib->object_detection==0.1) (1.3.1)\n",
      "Requirement already satisfied: fonttools>=4.22.0 in /Users/maximilianscheel/neuefische/capstone_project/sign2voice_rtod/.venv/lib/python3.10/site-packages (from matplotlib->object_detection==0.1) (4.56.0)\n",
      "Requirement already satisfied: packaging>=20.0 in /Users/maximilianscheel/neuefische/capstone_project/sign2voice_rtod/.venv/lib/python3.10/site-packages (from matplotlib->object_detection==0.1) (24.2)\n",
      "Requirement already satisfied: pytz>=2020.1 in /Users/maximilianscheel/neuefische/capstone_project/sign2voice_rtod/.venv/lib/python3.10/site-packages (from pandas->object_detection==0.1) (2025.1)\n",
      "Requirement already satisfied: tzdata>=2022.7 in /Users/maximilianscheel/neuefische/capstone_project/sign2voice_rtod/.venv/lib/python3.10/site-packages (from pandas->object_detection==0.1) (2025.1)\n",
      "Requirement already satisfied: absl-py>=0.2.2 in /Users/maximilianscheel/neuefische/capstone_project/sign2voice_rtod/.venv/lib/python3.10/site-packages (from tf-slim->object_detection==0.1) (1.4.0)\n",
      "Building wheels for collected packages: object_detection\n",
      "  Building wheel for object_detection (setup.py): started\n",
      "  Building wheel for object_detection (setup.py): finished with status 'done'\n",
      "  Created wheel for object_detection: filename=object_detection-0.1-py3-none-any.whl size=1656739 sha256=09e2abde98a23bcddc3d1cb9713d2aba19c53ed7ad67ed873f6f9fd1eb5cf2b9\n",
      "  Stored in directory: /private/var/folders/y5/l0vddhks2fj4y_tkywmly1240000gn/T/pip-ephem-wheel-cache-p_q_dk1o/wheels/8f/54/88/f63bdd34bd820a840ac6fd50f5a4599edba0db19b160481df2\n",
      "Successfully built object_detection\n",
      "Installing collected packages: object_detection\n",
      "Successfully installed object_detection-0.1\n"
     ]
    },
    {
     "name": "stderr",
     "output_type": "stream",
     "text": [
      "\n",
      "\u001b[1m[\u001b[0m\u001b[34;49mnotice\u001b[0m\u001b[1;39;49m]\u001b[0m\u001b[39;49m A new release of pip is available: \u001b[0m\u001b[31;49m24.3.1\u001b[0m\u001b[39;49m -> \u001b[0m\u001b[32;49m25.0\u001b[0m\n",
      "\u001b[1m[\u001b[0m\u001b[34;49mnotice\u001b[0m\u001b[1;39;49m]\u001b[0m\u001b[39;49m To update, run: \u001b[0m\u001b[32;49mpip install --upgrade pip\u001b[0m\n"
     ]
    }
   ],
   "source": [
    "%%bash\n",
    "cd Tensorflow/models/research/\n",
    "protoc object_detection/protos/*.proto --python_out=.\n",
    "cp object_detection/packages/tf1/setup.py . # updated to tf1 \n",
    "python -m pip install ."
   ]
  },
  {
   "cell_type": "code",
   "execution_count": 8,
   "metadata": {},
   "outputs": [
    {
     "name": "stdout",
     "output_type": "stream",
     "text": [
      "Updated ../.venv/lib/python3.10/site-packages/official/vision/image_classification/augment.py with new import statement and commented out the old one.\n"
     ]
    }
   ],
   "source": [
    "# update line of code in .venv/lib/python3.10/site-packages/official/vision/image_classification/augment.py\n",
    "\n",
    "\"\"\"\n",
    "replace\n",
    "from tensorflow.python.keras.layers.preprocessing import image_preprocessing as image_ops \n",
    "with\n",
    "from tensorflow.keras.preprocessing import image as image_ops\n",
    "\"\"\"\n",
    "\n",
    "\n",
    "import os\n",
    "\n",
    "# Define the path to the Python file\n",
    "file_path = \"../.venv/lib/python3.10/site-packages/official/vision/image_classification/augment.py\"\n",
    "\n",
    "# Define the lines to be replaced\n",
    "old_line = \"from tensorflow.python.keras.layers.preprocessing import image_preprocessing as image_ops\"\n",
    "new_line = \"from tensorflow.keras.preprocessing import image as image_ops\"\n",
    "\n",
    "# Read the file and copy the old line as a comment, then add the new line\n",
    "with open(file_path, 'r') as file:\n",
    "    lines = file.readlines()\n",
    "\n",
    "with open(file_path, 'w') as file:\n",
    "    for line in lines:\n",
    "        if old_line in line:\n",
    "            file.write(\"# \" + line)  # Comment out the old line\n",
    "            file.write(new_line + '\\n')  # Add the new line\n",
    "        else:\n",
    "            file.write(line)\n",
    "\n",
    "print(f\"Updated {file_path} with new import statement and commented out the old one.\")"
   ]
  },
  {
   "cell_type": "code",
   "execution_count": 9,
   "metadata": {},
   "outputs": [
    {
     "name": "stdout",
     "output_type": "stream",
     "text": [
      "Successfully created the TFRecord file: Tensorflow/workspace/annotations/train.record\n",
      "Successfully created the TFRecord file: Tensorflow/workspace/annotations/test.record\n"
     ]
    }
   ],
   "source": [
    "!python {SCRIPTS_PATH + '/generate_tfrecord.py'} -x {IMAGE_PATH + '/train'} -l {ANNOTATION_PATH + '/label_map.pbtxt'} -o {ANNOTATION_PATH + '/train.record'}\n",
    "!python {SCRIPTS_PATH + '/generate_tfrecord.py'} -x{IMAGE_PATH + '/test'} -l {ANNOTATION_PATH + '/label_map.pbtxt'} -o {ANNOTATION_PATH + '/test.record'}"
   ]
  },
  {
   "cell_type": "code",
   "execution_count": 10,
   "metadata": {},
   "outputs": [],
   "source": [
    "# copy model config to training folder\n",
    "CUSTOM_MODEL_NAME = 'my_ssd_mobnet' # model rerun with augmented training data - folder Tensorflow/models/my_ssd_mobnet needs to be deleted otherwise training model script will throw an error"
   ]
  },
  {
   "cell_type": "code",
   "execution_count": 11,
   "metadata": {},
   "outputs": [],
   "source": [
    "!mkdir -p {'Tensorflow/workspace/models/' + CUSTOM_MODEL_NAME}\n",
    "!cp {PRETRAINED_MODEL_PATH + '/ssd_mobilenet_v2_fpnlite_320x320_coco17_tpu-8/pipeline.config'} {MODEL_PATH + '/' + CUSTOM_MODEL_NAME}"
   ]
  },
  {
   "cell_type": "markdown",
   "metadata": {},
   "source": [
    "# UPDATE config for transfer learning"
   ]
  },
  {
   "cell_type": "code",
   "execution_count": 12,
   "metadata": {},
   "outputs": [],
   "source": [
    "import tensorflow as tf\n",
    "from object_detection.utils import config_util\n",
    "from object_detection.protos import pipeline_pb2\n",
    "from google.protobuf import text_format"
   ]
  },
  {
   "cell_type": "code",
   "execution_count": 13,
   "metadata": {},
   "outputs": [],
   "source": [
    "CONFIG_PATH = MODEL_PATH+'/'+CUSTOM_MODEL_NAME+'/pipeline.config'"
   ]
  },
  {
   "cell_type": "code",
   "execution_count": 14,
   "metadata": {},
   "outputs": [],
   "source": [
    "config = config_util.get_configs_from_pipeline_file(CONFIG_PATH)"
   ]
  },
  {
   "cell_type": "code",
   "execution_count": 15,
   "metadata": {
    "collapsed": true
   },
   "outputs": [
    {
     "data": {
      "text/plain": [
       "{'model': ssd {\n",
       "   num_classes: 90\n",
       "   image_resizer {\n",
       "     fixed_shape_resizer {\n",
       "       height: 320\n",
       "       width: 320\n",
       "     }\n",
       "   }\n",
       "   feature_extractor {\n",
       "     type: \"ssd_mobilenet_v2_fpn_keras\"\n",
       "     depth_multiplier: 1.0\n",
       "     min_depth: 16\n",
       "     conv_hyperparams {\n",
       "       regularizer {\n",
       "         l2_regularizer {\n",
       "           weight: 4e-05\n",
       "         }\n",
       "       }\n",
       "       initializer {\n",
       "         random_normal_initializer {\n",
       "           mean: 0.0\n",
       "           stddev: 0.01\n",
       "         }\n",
       "       }\n",
       "       activation: RELU_6\n",
       "       batch_norm {\n",
       "         decay: 0.997\n",
       "         scale: true\n",
       "         epsilon: 0.001\n",
       "       }\n",
       "     }\n",
       "     use_depthwise: true\n",
       "     override_base_feature_extractor_hyperparams: true\n",
       "     fpn {\n",
       "       min_level: 3\n",
       "       max_level: 7\n",
       "       additional_layer_depth: 128\n",
       "     }\n",
       "   }\n",
       "   box_coder {\n",
       "     faster_rcnn_box_coder {\n",
       "       y_scale: 10.0\n",
       "       x_scale: 10.0\n",
       "       height_scale: 5.0\n",
       "       width_scale: 5.0\n",
       "     }\n",
       "   }\n",
       "   matcher {\n",
       "     argmax_matcher {\n",
       "       matched_threshold: 0.5\n",
       "       unmatched_threshold: 0.5\n",
       "       ignore_thresholds: false\n",
       "       negatives_lower_than_unmatched: true\n",
       "       force_match_for_each_row: true\n",
       "       use_matmul_gather: true\n",
       "     }\n",
       "   }\n",
       "   similarity_calculator {\n",
       "     iou_similarity {\n",
       "     }\n",
       "   }\n",
       "   box_predictor {\n",
       "     weight_shared_convolutional_box_predictor {\n",
       "       conv_hyperparams {\n",
       "         regularizer {\n",
       "           l2_regularizer {\n",
       "             weight: 4e-05\n",
       "           }\n",
       "         }\n",
       "         initializer {\n",
       "           random_normal_initializer {\n",
       "             mean: 0.0\n",
       "             stddev: 0.01\n",
       "           }\n",
       "         }\n",
       "         activation: RELU_6\n",
       "         batch_norm {\n",
       "           decay: 0.997\n",
       "           scale: true\n",
       "           epsilon: 0.001\n",
       "         }\n",
       "       }\n",
       "       depth: 128\n",
       "       num_layers_before_predictor: 4\n",
       "       kernel_size: 3\n",
       "       class_prediction_bias_init: -4.6\n",
       "       share_prediction_tower: true\n",
       "       use_depthwise: true\n",
       "     }\n",
       "   }\n",
       "   anchor_generator {\n",
       "     multiscale_anchor_generator {\n",
       "       min_level: 3\n",
       "       max_level: 7\n",
       "       anchor_scale: 4.0\n",
       "       aspect_ratios: 1.0\n",
       "       aspect_ratios: 2.0\n",
       "       aspect_ratios: 0.5\n",
       "       scales_per_octave: 2\n",
       "     }\n",
       "   }\n",
       "   post_processing {\n",
       "     batch_non_max_suppression {\n",
       "       score_threshold: 1e-08\n",
       "       iou_threshold: 0.6\n",
       "       max_detections_per_class: 100\n",
       "       max_total_detections: 100\n",
       "       use_static_shapes: false\n",
       "     }\n",
       "     score_converter: SIGMOID\n",
       "   }\n",
       "   normalize_loss_by_num_matches: true\n",
       "   loss {\n",
       "     localization_loss {\n",
       "       weighted_smooth_l1 {\n",
       "       }\n",
       "     }\n",
       "     classification_loss {\n",
       "       weighted_sigmoid_focal {\n",
       "         gamma: 2.0\n",
       "         alpha: 0.25\n",
       "       }\n",
       "     }\n",
       "     classification_weight: 1.0\n",
       "     localization_weight: 1.0\n",
       "   }\n",
       "   encode_background_as_zeros: true\n",
       "   normalize_loc_loss_by_codesize: true\n",
       "   inplace_batchnorm_update: true\n",
       "   freeze_batchnorm: false\n",
       " },\n",
       " 'train_config': batch_size: 128\n",
       " data_augmentation_options {\n",
       "   random_horizontal_flip {\n",
       "   }\n",
       " }\n",
       " data_augmentation_options {\n",
       "   random_crop_image {\n",
       "     min_object_covered: 0.0\n",
       "     min_aspect_ratio: 0.75\n",
       "     max_aspect_ratio: 3.0\n",
       "     min_area: 0.75\n",
       "     max_area: 1.0\n",
       "     overlap_thresh: 0.0\n",
       "   }\n",
       " }\n",
       " sync_replicas: true\n",
       " optimizer {\n",
       "   momentum_optimizer {\n",
       "     learning_rate {\n",
       "       cosine_decay_learning_rate {\n",
       "         learning_rate_base: 0.08\n",
       "         total_steps: 50000\n",
       "         warmup_learning_rate: 0.026666\n",
       "         warmup_steps: 1000\n",
       "       }\n",
       "     }\n",
       "     momentum_optimizer_value: 0.9\n",
       "   }\n",
       "   use_moving_average: false\n",
       " }\n",
       " fine_tune_checkpoint: \"PATH_TO_BE_CONFIGURED\"\n",
       " num_steps: 50000\n",
       " startup_delay_steps: 0.0\n",
       " replicas_to_aggregate: 8\n",
       " max_number_of_boxes: 100\n",
       " unpad_groundtruth_tensors: false\n",
       " fine_tune_checkpoint_type: \"classification\"\n",
       " fine_tune_checkpoint_version: V2,\n",
       " 'train_input_config': label_map_path: \"PATH_TO_BE_CONFIGURED\"\n",
       " tf_record_input_reader {\n",
       "   input_path: \"PATH_TO_BE_CONFIGURED\"\n",
       " },\n",
       " 'eval_config': metrics_set: \"coco_detection_metrics\"\n",
       " use_moving_averages: false,\n",
       " 'eval_input_configs': [label_map_path: \"PATH_TO_BE_CONFIGURED\"\n",
       " shuffle: false\n",
       " num_epochs: 1\n",
       " tf_record_input_reader {\n",
       "   input_path: \"PATH_TO_BE_CONFIGURED\"\n",
       " }\n",
       " ],\n",
       " 'eval_input_config': label_map_path: \"PATH_TO_BE_CONFIGURED\"\n",
       " shuffle: false\n",
       " num_epochs: 1\n",
       " tf_record_input_reader {\n",
       "   input_path: \"PATH_TO_BE_CONFIGURED\"\n",
       " }}"
      ]
     },
     "execution_count": 15,
     "metadata": {},
     "output_type": "execute_result"
    }
   ],
   "source": [
    "config"
   ]
  },
  {
   "cell_type": "code",
   "execution_count": 16,
   "metadata": {},
   "outputs": [],
   "source": [
    "pipeline_config = pipeline_pb2.TrainEvalPipelineConfig()\n",
    "with tf.io.gfile.GFile(CONFIG_PATH, \"r\") as f:                                                                                                                                                                                                                     \n",
    "    proto_str = f.read()                                                                                                                                                                                                                                          \n",
    "    text_format.Merge(proto_str, pipeline_config)  "
   ]
  },
  {
   "cell_type": "code",
   "execution_count": 17,
   "metadata": {},
   "outputs": [],
   "source": [
    "pipeline_config.model.ssd.num_classes = 9 # no. of phoenix sample glosses\n",
    "pipeline_config.train_config.batch_size = 4\n",
    "pipeline_config.train_config.fine_tune_checkpoint = PRETRAINED_MODEL_PATH+'/ssd_mobilenet_v2_fpnlite_320x320_coco17_tpu-8/checkpoint/ckpt-0'\n",
    "pipeline_config.train_config.fine_tune_checkpoint_type = \"detection\"\n",
    "pipeline_config.train_input_reader.label_map_path= ANNOTATION_PATH + '/label_map.pbtxt'\n",
    "pipeline_config.train_input_reader.tf_record_input_reader.input_path[:] = [ANNOTATION_PATH + '/train.record']\n",
    "pipeline_config.eval_input_reader[0].label_map_path = ANNOTATION_PATH + '/label_map.pbtxt'\n",
    "pipeline_config.eval_input_reader[0].tf_record_input_reader.input_path[:] = [ANNOTATION_PATH + '/test.record']"
   ]
  },
  {
   "cell_type": "code",
   "execution_count": 18,
   "metadata": {},
   "outputs": [],
   "source": [
    "config_text = text_format.MessageToString(pipeline_config)                                                                                                                                                                                                        \n",
    "with tf.io.gfile.GFile(CONFIG_PATH, \"wb\") as f:                                                                                                                                                                                                                     \n",
    "    f.write(config_text)   "
   ]
  },
  {
   "cell_type": "markdown",
   "metadata": {},
   "source": [
    "# TRAIN the model"
   ]
  },
  {
   "cell_type": "code",
   "execution_count": 19,
   "metadata": {},
   "outputs": [
    {
     "name": "stdout",
     "output_type": "stream",
     "text": [
      "python Tensorflow/models/research/object_detection/model_main_tf2.py --model_dir=Tensorflow/workspace/models/my_ssd_mobnet --pipeline_config_path=Tensorflow/workspace/models/my_ssd_mobnet/pipeline.config --num_train_steps=10000\n"
     ]
    }
   ],
   "source": [
    "# no. of steps set to 10000\n",
    "print(\"\"\"python {}/research/object_detection/model_main_tf2.py --model_dir={}/{} --pipeline_config_path={}/{}/pipeline.config --num_train_steps=10000\"\"\".format(APIMODEL_PATH, MODEL_PATH,CUSTOM_MODEL_NAME,MODEL_PATH,CUSTOM_MODEL_NAME))"
   ]
  },
  {
   "cell_type": "code",
   "execution_count": null,
   "metadata": {},
   "outputs": [],
   "source": [
    "# create ckpt checkpoint files in my_ssd_mobnet later used in streamlit python script to load the pretrained model\n",
    "!print(\"\"\"python {}/research/object_detection/model_main_tf2.py --model_dir={}/{} --pipeline_config_path={}/{}/pipeline.config --num_train_steps=10000\"\"\".format(APIMODEL_PATH, MODEL_PATH,CUSTOM_MODEL_NAME,MODEL_PATH,CUSTOM_MODEL_NAME))"
   ]
  }
 ],
 "metadata": {
  "kernelspec": {
   "display_name": ".venv",
   "language": "python",
   "name": "python3"
  },
  "language_info": {
   "codemirror_mode": {
    "name": "ipython",
    "version": 3
   },
   "file_extension": ".py",
   "mimetype": "text/x-python",
   "name": "python",
   "nbconvert_exporter": "python",
   "pygments_lexer": "ipython3",
   "version": "3.10.16"
  }
 },
 "nbformat": 4,
 "nbformat_minor": 2
}
