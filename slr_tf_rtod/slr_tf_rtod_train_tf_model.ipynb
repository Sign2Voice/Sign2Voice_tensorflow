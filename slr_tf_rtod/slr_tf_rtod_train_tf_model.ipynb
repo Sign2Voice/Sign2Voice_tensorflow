{
 "cells": [
  {
   "cell_type": "code",
   "execution_count": 1,
   "metadata": {},
   "outputs": [],
   "source": [
    "# setup paths\n",
    "WORKSPACE_PATH = 'Tensorflow/workspace'\n",
    "SCRIPTS_PATH = 'Tensorflow/scripts'\n",
    "APIMODEL_PATH = 'Tensorflow/models'\n",
    "ANNOTATION_PATH = WORKSPACE_PATH+'/annotations'\n",
    "IMAGE_PATH = WORKSPACE_PATH+'/images'\n",
    "MODEL_PATH = WORKSPACE_PATH+'/models'\n",
    "PRETRAINED_MODEL_PATH = WORKSPACE_PATH+'/pre-trained-models'\n",
    "CONFIG_PATH = MODEL_PATH+'/my_ssd_mobnet/pipeline.config'\n",
    "CHECKPOINT_PATH = MODEL_PATH+'/my_ssd_mobnet/'"
   ]
  },
  {
   "cell_type": "markdown",
   "metadata": {},
   "source": [
    "# CREATE label map"
   ]
  },
  {
   "cell_type": "code",
   "execution_count": 2,
   "metadata": {},
   "outputs": [],
   "source": [
    "# create label map - add all sign language glosses in sequential order\n",
    "\n",
    "labels = [\n",
    "    # phoenix sample glosses\n",
    "    {'name':'montag', 'id':1},    \n",
    "    {'name':'auch', 'id':2},  \n",
    "    {'name':'mehr', 'id':3},  \n",
    "    {'name':'wolke', 'id':4},  \n",
    "    {'name':'als', 'id':5},  \n",
    "    {'name':'sonne', 'id':6},  \n",
    "    {'name':'ueberwiegend', 'id':7},  \n",
    "    {'name':'regen', 'id':8},  \n",
    "    {'name':'gewitter', 'id':9},  \n",
    "    ]\n",
    "\n",
    "with open(ANNOTATION_PATH + '/label_map.pbtxt', 'w') as f:\n",
    "    for label in labels:\n",
    "        f.write('item {\\n') # space removed\n",
    "        f.write('\\tname:\\'{}\\'\\n'.format(label['name']))\n",
    "        f.write('\\tid:{}\\n'.format(label['id']))\n",
    "        f.write('}\\n')"
   ]
  },
  {
   "cell_type": "markdown",
   "metadata": {},
   "source": [
    "# CREATE tfrecord file"
   ]
  },
  {
   "cell_type": "code",
   "execution_count": 3,
   "metadata": {},
   "outputs": [
    {
     "name": "stdout",
     "output_type": "stream",
     "text": [
      "Cloning into 'models'...\n",
      "remote: Enumerating objects: 99321, done.\u001b[K\n",
      "remote: Counting objects: 100% (138/138), done.\u001b[K\n",
      "remote: Compressing objects: 100% (94/94), done.\u001b[K\n",
      "remote: Total 99321 (delta 78), reused 52 (delta 44), pack-reused 99183 (from 5)\u001b[K\n",
      "Receiving objects: 100% (99321/99321), 622.99 MiB | 30.48 MiB/s, done.\n",
      "Resolving deltas: 100% (72155/72155), done.\n"
     ]
    }
   ],
   "source": [
    "# downloading pretrained tf models from tf model zoo\n",
    "!cd Tensorflow && git clone https://github.com/tensorflow/models"
   ]
  },
  {
   "cell_type": "code",
   "execution_count": null,
   "metadata": {},
   "outputs": [],
   "source": [
    "# installing object detection module (below)"
   ]
  },
  {
   "cell_type": "code",
   "execution_count": 9,
   "metadata": {},
   "outputs": [
    {
     "name": "stdout",
     "output_type": "stream",
     "text": [
      "Processing /Users/maximilianscheel/Desktop/github/Sign2Voice_tensorflow/slr_tf_rtod/Tensorflow/models/research\n",
      "  Preparing metadata (setup.py): started\n",
      "  Preparing metadata (setup.py): finished with status 'done'\n",
      "Requirement already satisfied: pillow in /Users/maximilianscheel/Desktop/github/Sign2Voice_tensorflow/.venv/lib/python3.10/site-packages (from object_detection==0.1) (11.1.0)\n",
      "Requirement already satisfied: lxml in /Users/maximilianscheel/Desktop/github/Sign2Voice_tensorflow/.venv/lib/python3.10/site-packages (from object_detection==0.1) (5.3.1)\n",
      "Requirement already satisfied: matplotlib in /Users/maximilianscheel/Desktop/github/Sign2Voice_tensorflow/.venv/lib/python3.10/site-packages (from object_detection==0.1) (3.10.0)\n",
      "Requirement already satisfied: Cython in /Users/maximilianscheel/Desktop/github/Sign2Voice_tensorflow/.venv/lib/python3.10/site-packages (from object_detection==0.1) (3.0.12)\n",
      "Requirement already satisfied: contextlib2 in /Users/maximilianscheel/Desktop/github/Sign2Voice_tensorflow/.venv/lib/python3.10/site-packages (from object_detection==0.1) (21.6.0)\n",
      "Requirement already satisfied: tf-slim in /Users/maximilianscheel/Desktop/github/Sign2Voice_tensorflow/.venv/lib/python3.10/site-packages (from object_detection==0.1) (1.1.0)\n",
      "Requirement already satisfied: six in /Users/maximilianscheel/Desktop/github/Sign2Voice_tensorflow/.venv/lib/python3.10/site-packages (from object_detection==0.1) (1.17.0)\n",
      "Requirement already satisfied: pycocotools in /Users/maximilianscheel/Desktop/github/Sign2Voice_tensorflow/.venv/lib/python3.10/site-packages (from object_detection==0.1) (2.0.8)\n",
      "Requirement already satisfied: lvis in /Users/maximilianscheel/Desktop/github/Sign2Voice_tensorflow/.venv/lib/python3.10/site-packages (from object_detection==0.1) (0.5.3)\n",
      "Requirement already satisfied: scipy in /Users/maximilianscheel/Desktop/github/Sign2Voice_tensorflow/.venv/lib/python3.10/site-packages (from object_detection==0.1) (1.15.1)\n",
      "Requirement already satisfied: pandas in /Users/maximilianscheel/Desktop/github/Sign2Voice_tensorflow/.venv/lib/python3.10/site-packages (from object_detection==0.1) (2.2.3)\n",
      "Requirement already satisfied: cycler>=0.10.0 in /Users/maximilianscheel/Desktop/github/Sign2Voice_tensorflow/.venv/lib/python3.10/site-packages (from lvis->object_detection==0.1) (0.12.1)\n",
      "Requirement already satisfied: kiwisolver>=1.1.0 in /Users/maximilianscheel/Desktop/github/Sign2Voice_tensorflow/.venv/lib/python3.10/site-packages (from lvis->object_detection==0.1) (1.4.8)\n",
      "Requirement already satisfied: numpy>=1.18.2 in /Users/maximilianscheel/Desktop/github/Sign2Voice_tensorflow/.venv/lib/python3.10/site-packages (from lvis->object_detection==0.1) (1.24.3)\n",
      "Requirement already satisfied: opencv-python>=4.1.0.25 in /Users/maximilianscheel/Desktop/github/Sign2Voice_tensorflow/.venv/lib/python3.10/site-packages (from lvis->object_detection==0.1) (4.11.0.86)\n",
      "Requirement already satisfied: pyparsing>=2.4.0 in /Users/maximilianscheel/Desktop/github/Sign2Voice_tensorflow/.venv/lib/python3.10/site-packages (from lvis->object_detection==0.1) (3.2.1)\n",
      "Requirement already satisfied: python-dateutil>=2.8.0 in /Users/maximilianscheel/Desktop/github/Sign2Voice_tensorflow/.venv/lib/python3.10/site-packages (from lvis->object_detection==0.1) (2.9.0.post0)\n",
      "Requirement already satisfied: contourpy>=1.0.1 in /Users/maximilianscheel/Desktop/github/Sign2Voice_tensorflow/.venv/lib/python3.10/site-packages (from matplotlib->object_detection==0.1) (1.3.1)\n",
      "Requirement already satisfied: fonttools>=4.22.0 in /Users/maximilianscheel/Desktop/github/Sign2Voice_tensorflow/.venv/lib/python3.10/site-packages (from matplotlib->object_detection==0.1) (4.56.0)\n",
      "Requirement already satisfied: packaging>=20.0 in /Users/maximilianscheel/Desktop/github/Sign2Voice_tensorflow/.venv/lib/python3.10/site-packages (from matplotlib->object_detection==0.1) (24.2)\n",
      "Requirement already satisfied: pytz>=2020.1 in /Users/maximilianscheel/Desktop/github/Sign2Voice_tensorflow/.venv/lib/python3.10/site-packages (from pandas->object_detection==0.1) (2025.1)\n",
      "Requirement already satisfied: tzdata>=2022.7 in /Users/maximilianscheel/Desktop/github/Sign2Voice_tensorflow/.venv/lib/python3.10/site-packages (from pandas->object_detection==0.1) (2025.1)\n",
      "Requirement already satisfied: absl-py>=0.2.2 in /Users/maximilianscheel/Desktop/github/Sign2Voice_tensorflow/.venv/lib/python3.10/site-packages (from tf-slim->object_detection==0.1) (1.4.0)\n",
      "Building wheels for collected packages: object_detection\n",
      "  Building wheel for object_detection (setup.py): started\n",
      "  Building wheel for object_detection (setup.py): finished with status 'done'\n",
      "  Created wheel for object_detection: filename=object_detection-0.1-py3-none-any.whl size=1660077 sha256=e50d49b65211f32046ae494396225617049d34e907d872e7d30a40a1f6ffc15c\n",
      "  Stored in directory: /private/var/folders/1r/wl0hpmfs0x5_s1k9l77c0d6m0000gn/T/pip-ephem-wheel-cache-to6ifevk/wheels/cc/f4/a8/c7882bb8121d9bc87f9405645c017ff87d23697191a5380a6d\n",
      "Successfully built object_detection\n",
      "Installing collected packages: object_detection\n",
      "  Attempting uninstall: object_detection\n",
      "    Found existing installation: object_detection 0.1\n",
      "    Uninstalling object_detection-0.1:\n",
      "      Successfully uninstalled object_detection-0.1\n",
      "Successfully installed object_detection-0.1\n"
     ]
    },
    {
     "name": "stderr",
     "output_type": "stream",
     "text": [
      "\n",
      "\u001b[1m[\u001b[0m\u001b[34;49mnotice\u001b[0m\u001b[1;39;49m]\u001b[0m\u001b[39;49m A new release of pip is available: \u001b[0m\u001b[31;49m24.3.1\u001b[0m\u001b[39;49m -> \u001b[0m\u001b[32;49m25.0.1\u001b[0m\n",
      "\u001b[1m[\u001b[0m\u001b[34;49mnotice\u001b[0m\u001b[1;39;49m]\u001b[0m\u001b[39;49m To update, run: \u001b[0m\u001b[32;49mpip install --upgrade pip\u001b[0m\n"
     ]
    }
   ],
   "source": [
    "%%bash\n",
    "cd Tensorflow/models/research/\n",
    "protoc object_detection/protos/*.proto --python_out=.\n",
    "cp object_detection/packages/tf1/setup.py . # updated to tf1 \n",
    "python -m pip install ."
   ]
  },
  {
   "cell_type": "code",
   "execution_count": 10,
   "metadata": {},
   "outputs": [
    {
     "name": "stdout",
     "output_type": "stream",
     "text": [
      "Updated ../.venv/lib/python3.10/site-packages/official/vision/image_classification/augment.py with new import statement and commented out the old one.\n"
     ]
    }
   ],
   "source": [
    "# update line of code in .venv/lib/python3.10/site-packages/official/vision/image_classification/augment.py\n",
    "\n",
    "\"\"\"\n",
    "replace\n",
    "from tensorflow.python.keras.layers.preprocessing import image_preprocessing as image_ops \n",
    "with\n",
    "from tensorflow.keras.preprocessing import image as image_ops\n",
    "\"\"\"\n",
    "\n",
    "\n",
    "import os\n",
    "\n",
    "# Define the path to the Python file\n",
    "file_path = \"../.venv/lib/python3.10/site-packages/official/vision/image_classification/augment.py\"\n",
    "\n",
    "# Define the lines to be replaced\n",
    "old_line = \"from tensorflow.python.keras.layers.preprocessing import image_preprocessing as image_ops\"\n",
    "new_line = \"from tensorflow.keras.preprocessing import image as image_ops\"\n",
    "\n",
    "# Read the file and copy the old line as a comment, then add the new line\n",
    "with open(file_path, 'r') as file:\n",
    "    lines = file.readlines()\n",
    "\n",
    "with open(file_path, 'w') as file:\n",
    "    for line in lines:\n",
    "        if old_line in line:\n",
    "            file.write(\"# \" + line)  # Comment out the old line\n",
    "            file.write(new_line + '\\n')  # Add the new line\n",
    "        else:\n",
    "            file.write(line)\n",
    "\n",
    "print(f\"Updated {file_path} with new import statement and commented out the old one.\")"
   ]
  },
  {
   "cell_type": "code",
   "execution_count": 11,
   "metadata": {},
   "outputs": [
    {
     "name": "stdout",
     "output_type": "stream",
     "text": [
      "Requirement already satisfied: protobuf in /Users/maximilianscheel/Desktop/github/Sign2Voice_tensorflow/.venv/lib/python3.10/site-packages (5.29.3)\n",
      "\n",
      "\u001b[1m[\u001b[0m\u001b[34;49mnotice\u001b[0m\u001b[1;39;49m]\u001b[0m\u001b[39;49m A new release of pip is available: \u001b[0m\u001b[31;49m24.3.1\u001b[0m\u001b[39;49m -> \u001b[0m\u001b[32;49m25.0.1\u001b[0m\n",
      "\u001b[1m[\u001b[0m\u001b[34;49mnotice\u001b[0m\u001b[1;39;49m]\u001b[0m\u001b[39;49m To update, run: \u001b[0m\u001b[32;49mpip install --upgrade pip\u001b[0m\n"
     ]
    }
   ],
   "source": [
    "# update protobuf before running code\n",
    "!pip install --upgrade protobuf\n"
   ]
  },
  {
   "cell_type": "code",
   "execution_count": 12,
   "metadata": {},
   "outputs": [
    {
     "name": "stdout",
     "output_type": "stream",
     "text": [
      "Successfully created the TFRecord file: Tensorflow/workspace/annotations/train.record\n",
      "Successfully created the TFRecord file: Tensorflow/workspace/annotations/test.record\n"
     ]
    }
   ],
   "source": [
    "!python {SCRIPTS_PATH + '/generate_tfrecord.py'} -x {IMAGE_PATH + '/train'} -l {ANNOTATION_PATH + '/label_map.pbtxt'} -o {ANNOTATION_PATH + '/train.record'}\n",
    "!python {SCRIPTS_PATH + '/generate_tfrecord.py'} -x{IMAGE_PATH + '/test'} -l {ANNOTATION_PATH + '/label_map.pbtxt'} -o {ANNOTATION_PATH + '/test.record'}"
   ]
  },
  {
   "cell_type": "code",
   "execution_count": 13,
   "metadata": {},
   "outputs": [],
   "source": [
    "# copy model config to training folder\n",
    "CUSTOM_MODEL_NAME = 'my_ssd_mobnet' # model rerun with augmented training data - folder Tensorflow/models/my_ssd_mobnet needs to be deleted otherwise training model script will throw an error"
   ]
  },
  {
   "cell_type": "code",
   "execution_count": 14,
   "metadata": {},
   "outputs": [],
   "source": [
    "!mkdir -p {'Tensorflow/workspace/models/' + CUSTOM_MODEL_NAME}\n",
    "!cp {PRETRAINED_MODEL_PATH + '/ssd_mobilenet_v2_fpnlite_320x320_coco17_tpu-8/pipeline.config'} {MODEL_PATH + '/' + CUSTOM_MODEL_NAME}"
   ]
  },
  {
   "cell_type": "markdown",
   "metadata": {},
   "source": [
    "# UPDATE config for transfer learning"
   ]
  },
  {
   "cell_type": "code",
   "execution_count": 15,
   "metadata": {},
   "outputs": [],
   "source": [
    "import tensorflow as tf\n",
    "from object_detection.utils import config_util\n",
    "from object_detection.protos import pipeline_pb2\n",
    "from google.protobuf import text_format"
   ]
  },
  {
   "cell_type": "code",
   "execution_count": 16,
   "metadata": {},
   "outputs": [],
   "source": [
    "CONFIG_PATH = MODEL_PATH+'/'+CUSTOM_MODEL_NAME+'/pipeline.config'"
   ]
  },
  {
   "cell_type": "code",
   "execution_count": 17,
   "metadata": {},
   "outputs": [],
   "source": [
    "config = config_util.get_configs_from_pipeline_file(CONFIG_PATH)"
   ]
  },
  {
   "cell_type": "code",
   "execution_count": 18,
   "metadata": {},
   "outputs": [],
   "source": [
    "pipeline_config = pipeline_pb2.TrainEvalPipelineConfig()\n",
    "with tf.io.gfile.GFile(CONFIG_PATH, \"r\") as f:                                                                                                                                                                                                                     \n",
    "    proto_str = f.read()                                                                                                                                                                                                                                          \n",
    "    text_format.Merge(proto_str, pipeline_config)  "
   ]
  },
  {
   "cell_type": "code",
   "execution_count": 19,
   "metadata": {},
   "outputs": [],
   "source": [
    "pipeline_config.model.ssd.num_classes = 9 # no. of phoenix sample glosses\n",
    "pipeline_config.train_config.batch_size = 4\n",
    "pipeline_config.train_config.fine_tune_checkpoint = PRETRAINED_MODEL_PATH+'/ssd_mobilenet_v2_fpnlite_320x320_coco17_tpu-8/checkpoint/ckpt-0'\n",
    "pipeline_config.train_config.fine_tune_checkpoint_type = \"detection\"\n",
    "pipeline_config.train_input_reader.label_map_path= ANNOTATION_PATH + '/label_map.pbtxt'\n",
    "pipeline_config.train_input_reader.tf_record_input_reader.input_path[:] = [ANNOTATION_PATH + '/train.record']\n",
    "pipeline_config.eval_input_reader[0].label_map_path = ANNOTATION_PATH + '/label_map.pbtxt'\n",
    "pipeline_config.eval_input_reader[0].tf_record_input_reader.input_path[:] = [ANNOTATION_PATH + '/test.record']"
   ]
  },
  {
   "cell_type": "code",
   "execution_count": 20,
   "metadata": {},
   "outputs": [],
   "source": [
    "config_text = text_format.MessageToString(pipeline_config)                                                                                                                                                                                                        \n",
    "with tf.io.gfile.GFile(CONFIG_PATH, \"wb\") as f:                                                                                                                                                                                                                     \n",
    "    f.write(config_text)   "
   ]
  },
  {
   "cell_type": "markdown",
   "metadata": {},
   "source": [
    "# TRAIN the model"
   ]
  },
  {
   "cell_type": "code",
   "execution_count": 21,
   "metadata": {},
   "outputs": [
    {
     "name": "stdout",
     "output_type": "stream",
     "text": [
      "python Tensorflow/models/research/object_detection/model_main_tf2.py --model_dir=Tensorflow/workspace/models/my_ssd_mobnet --pipeline_config_path=Tensorflow/workspace/models/my_ssd_mobnet/pipeline.config --num_train_steps=10000\n"
     ]
    }
   ],
   "source": [
    "# no. of steps set to 10000\n",
    "print(\"\"\"python {}/research/object_detection/model_main_tf2.py --model_dir={}/{} --pipeline_config_path={}/{}/pipeline.config --num_train_steps=10000\"\"\".format(APIMODEL_PATH, MODEL_PATH,CUSTOM_MODEL_NAME,MODEL_PATH,CUSTOM_MODEL_NAME))"
   ]
  },
  {
   "cell_type": "code",
   "execution_count": null,
   "metadata": {},
   "outputs": [],
   "source": [
    "# create ckpt checkpoint files in my_ssd_mobnet later used in streamlit python script to load the pretrained model\n",
    "!python Tensorflow/models/research/object_detection/model_main_tf2.py --model_dir=Tensorflow/workspace/models/my_ssd_mobnet --pipeline_config_path=Tensorflow/workspace/models/my_ssd_mobnet/pipeline.config --num_train_steps=10000"
   ]
  }
 ],
 "metadata": {
  "kernelspec": {
   "display_name": ".venv",
   "language": "python",
   "name": "python3"
  },
  "language_info": {
   "codemirror_mode": {
    "name": "ipython",
    "version": 3
   },
   "file_extension": ".py",
   "mimetype": "text/x-python",
   "name": "python",
   "nbconvert_exporter": "python",
   "pygments_lexer": "ipython3",
   "version": "3.10.16"
  }
 },
 "nbformat": 4,
 "nbformat_minor": 2
}
