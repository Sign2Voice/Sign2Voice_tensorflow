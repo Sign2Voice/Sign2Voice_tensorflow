{
 "cells": [
  {
   "cell_type": "code",
   "execution_count": 7,
   "metadata": {},
   "outputs": [],
   "source": [
    "# install object detection library from slr_tf_rtod steps before in python3.9 venv"
   ]
  },
  {
   "cell_type": "code",
   "execution_count": 1,
   "metadata": {},
   "outputs": [
    {
     "name": "stdout",
     "output_type": "stream",
     "text": [
      "Processing /Users/maximilianscheel/Desktop/github/Sign2Voice_tensorflow/slr_tf_rtod/Tensorflow/models/research\n",
      "  Preparing metadata (setup.py): started\n",
      "  Preparing metadata (setup.py): finished with status 'done'\n",
      "Requirement already satisfied: pillow in /Users/maximilianscheel/Desktop/github/Sign2Voice_tensorflow/.venv/lib/python3.9/site-packages (from object_detection==0.1) (11.1.0)\n",
      "Requirement already satisfied: lxml in /Users/maximilianscheel/Desktop/github/Sign2Voice_tensorflow/.venv/lib/python3.9/site-packages (from object_detection==0.1) (5.3.1)\n",
      "Requirement already satisfied: matplotlib in /Users/maximilianscheel/Desktop/github/Sign2Voice_tensorflow/.venv/lib/python3.9/site-packages (from object_detection==0.1) (3.9.4)\n",
      "Requirement already satisfied: Cython in /Users/maximilianscheel/Desktop/github/Sign2Voice_tensorflow/.venv/lib/python3.9/site-packages (from object_detection==0.1) (3.0.12)\n",
      "Requirement already satisfied: contextlib2 in /Users/maximilianscheel/Desktop/github/Sign2Voice_tensorflow/.venv/lib/python3.9/site-packages (from object_detection==0.1) (21.6.0)\n",
      "Requirement already satisfied: tf-slim in /Users/maximilianscheel/Desktop/github/Sign2Voice_tensorflow/.venv/lib/python3.9/site-packages (from object_detection==0.1) (1.1.0)\n",
      "Requirement already satisfied: six in /Users/maximilianscheel/Desktop/github/Sign2Voice_tensorflow/.venv/lib/python3.9/site-packages (from object_detection==0.1) (1.17.0)\n",
      "Requirement already satisfied: pycocotools in /Users/maximilianscheel/Desktop/github/Sign2Voice_tensorflow/.venv/lib/python3.9/site-packages (from object_detection==0.1) (2.0.8)\n",
      "Requirement already satisfied: lvis in /Users/maximilianscheel/Desktop/github/Sign2Voice_tensorflow/.venv/lib/python3.9/site-packages (from object_detection==0.1) (0.5.3)\n",
      "Requirement already satisfied: scipy in /Users/maximilianscheel/Desktop/github/Sign2Voice_tensorflow/.venv/lib/python3.9/site-packages (from object_detection==0.1) (1.13.1)\n",
      "Requirement already satisfied: pandas in /Users/maximilianscheel/Desktop/github/Sign2Voice_tensorflow/.venv/lib/python3.9/site-packages (from object_detection==0.1) (2.2.3)\n",
      "Requirement already satisfied: cycler>=0.10.0 in /Users/maximilianscheel/Desktop/github/Sign2Voice_tensorflow/.venv/lib/python3.9/site-packages (from lvis->object_detection==0.1) (0.12.1)\n",
      "Requirement already satisfied: kiwisolver>=1.1.0 in /Users/maximilianscheel/Desktop/github/Sign2Voice_tensorflow/.venv/lib/python3.9/site-packages (from lvis->object_detection==0.1) (1.4.7)\n",
      "Requirement already satisfied: numpy>=1.18.2 in /Users/maximilianscheel/Desktop/github/Sign2Voice_tensorflow/.venv/lib/python3.9/site-packages (from lvis->object_detection==0.1) (1.24.3)\n",
      "Requirement already satisfied: opencv-python>=4.1.0.25 in /Users/maximilianscheel/Desktop/github/Sign2Voice_tensorflow/.venv/lib/python3.9/site-packages (from lvis->object_detection==0.1) (4.11.0.86)\n",
      "Requirement already satisfied: pyparsing>=2.4.0 in /Users/maximilianscheel/Desktop/github/Sign2Voice_tensorflow/.venv/lib/python3.9/site-packages (from lvis->object_detection==0.1) (3.2.1)\n",
      "Requirement already satisfied: python-dateutil>=2.8.0 in /Users/maximilianscheel/Desktop/github/Sign2Voice_tensorflow/.venv/lib/python3.9/site-packages (from lvis->object_detection==0.1) (2.9.0.post0)\n",
      "Requirement already satisfied: contourpy>=1.0.1 in /Users/maximilianscheel/Desktop/github/Sign2Voice_tensorflow/.venv/lib/python3.9/site-packages (from matplotlib->object_detection==0.1) (1.3.0)\n",
      "Requirement already satisfied: fonttools>=4.22.0 in /Users/maximilianscheel/Desktop/github/Sign2Voice_tensorflow/.venv/lib/python3.9/site-packages (from matplotlib->object_detection==0.1) (4.56.0)\n",
      "Requirement already satisfied: packaging>=20.0 in /Users/maximilianscheel/Desktop/github/Sign2Voice_tensorflow/.venv/lib/python3.9/site-packages (from matplotlib->object_detection==0.1) (24.2)\n",
      "Requirement already satisfied: importlib-resources>=3.2.0 in /Users/maximilianscheel/Desktop/github/Sign2Voice_tensorflow/.venv/lib/python3.9/site-packages (from matplotlib->object_detection==0.1) (6.5.2)\n",
      "Requirement already satisfied: pytz>=2020.1 in /Users/maximilianscheel/Desktop/github/Sign2Voice_tensorflow/.venv/lib/python3.9/site-packages (from pandas->object_detection==0.1) (2025.1)\n",
      "Requirement already satisfied: tzdata>=2022.7 in /Users/maximilianscheel/Desktop/github/Sign2Voice_tensorflow/.venv/lib/python3.9/site-packages (from pandas->object_detection==0.1) (2025.1)\n",
      "Requirement already satisfied: absl-py>=0.2.2 in /Users/maximilianscheel/Desktop/github/Sign2Voice_tensorflow/.venv/lib/python3.9/site-packages (from tf-slim->object_detection==0.1) (1.4.0)\n",
      "Requirement already satisfied: zipp>=3.1.0 in /Users/maximilianscheel/Desktop/github/Sign2Voice_tensorflow/.venv/lib/python3.9/site-packages (from importlib-resources>=3.2.0->matplotlib->object_detection==0.1) (3.21.0)\n",
      "Building wheels for collected packages: object_detection\n",
      "  Building wheel for object_detection (setup.py): started\n",
      "  Building wheel for object_detection (setup.py): finished with status 'done'\n",
      "  Created wheel for object_detection: filename=object_detection-0.1-py3-none-any.whl size=1660077 sha256=405be46ceb12ef1f91aa87bcf30a0255dd7ba73a529a69f8fdabcc691fc14d59\n",
      "  Stored in directory: /private/var/folders/1r/wl0hpmfs0x5_s1k9l77c0d6m0000gn/T/pip-ephem-wheel-cache-82n8h52q/wheels/df/3a/17/cd216d56f215cbb7a5ce1ee5b4f4c31617c5c0bfbaef66ceef\n",
      "Successfully built object_detection\n",
      "Installing collected packages: object_detection\n",
      "Successfully installed object_detection-0.1\n"
     ]
    },
    {
     "name": "stderr",
     "output_type": "stream",
     "text": [
      "\n",
      "\u001b[1m[\u001b[0m\u001b[34;49mnotice\u001b[0m\u001b[1;39;49m]\u001b[0m\u001b[39;49m A new release of pip is available: \u001b[0m\u001b[31;49m24.3.1\u001b[0m\u001b[39;49m -> \u001b[0m\u001b[32;49m25.0.1\u001b[0m\n",
      "\u001b[1m[\u001b[0m\u001b[34;49mnotice\u001b[0m\u001b[1;39;49m]\u001b[0m\u001b[39;49m To update, run: \u001b[0m\u001b[32;49mpip install --upgrade pip\u001b[0m\n"
     ]
    }
   ],
   "source": [
    "%%bash\n",
    "cd ../slr_tf_rtod/Tensorflow/models/research/\n",
    "protoc object_detection/protos/*.proto --python_out=.\n",
    "cp object_detection/packages/tf1/setup.py . # updated to tf1 \n",
    "python -m pip install ."
   ]
  },
  {
   "cell_type": "code",
   "execution_count": 2,
   "metadata": {},
   "outputs": [
    {
     "name": "stdout",
     "output_type": "stream",
     "text": [
      "Requirement already satisfied: protobuf in /Users/maximilianscheel/Desktop/github/Sign2Voice_tensorflow/.venv/lib/python3.9/site-packages (3.20.3)\n",
      "Collecting protobuf\n",
      "  Using cached protobuf-5.29.3-cp38-abi3-macosx_10_9_universal2.whl.metadata (592 bytes)\n",
      "Using cached protobuf-5.29.3-cp38-abi3-macosx_10_9_universal2.whl (417 kB)\n",
      "Installing collected packages: protobuf\n",
      "  Attempting uninstall: protobuf\n",
      "    Found existing installation: protobuf 3.20.3\n",
      "    Uninstalling protobuf-3.20.3:\n",
      "      Successfully uninstalled protobuf-3.20.3\n",
      "\u001b[31mERROR: pip's dependency resolver does not currently take into account all the packages that are installed. This behaviour is the source of the following dependency conflicts.\n",
      "tensorflow-macos 2.13.0 requires protobuf!=4.21.0,!=4.21.1,!=4.21.2,!=4.21.3,!=4.21.4,!=4.21.5,<5.0.0dev,>=3.20.3, but you have protobuf 5.29.3 which is incompatible.\n",
      "tensorflow-metadata 1.16.1 requires protobuf<4.21,>=3.20.3; python_version < \"3.11\", but you have protobuf 5.29.3 which is incompatible.\u001b[0m\u001b[31m\n",
      "\u001b[0mSuccessfully installed protobuf-5.29.3\n",
      "\n",
      "\u001b[1m[\u001b[0m\u001b[34;49mnotice\u001b[0m\u001b[1;39;49m]\u001b[0m\u001b[39;49m A new release of pip is available: \u001b[0m\u001b[31;49m24.3.1\u001b[0m\u001b[39;49m -> \u001b[0m\u001b[32;49m25.0.1\u001b[0m\n",
      "\u001b[1m[\u001b[0m\u001b[34;49mnotice\u001b[0m\u001b[1;39;49m]\u001b[0m\u001b[39;49m To update, run: \u001b[0m\u001b[32;49mpip install --upgrade pip\u001b[0m\n"
     ]
    }
   ],
   "source": [
    "!pip install --upgrade protobuf\n"
   ]
  },
  {
   "cell_type": "code",
   "execution_count": 3,
   "metadata": {},
   "outputs": [
    {
     "name": "stdout",
     "output_type": "stream",
     "text": [
      "Updated ../.venv/lib/python3.9/site-packages/official/vision/image_classification/augment.py with new import statement and commented out the old one.\n"
     ]
    }
   ],
   "source": [
    "# update line of code in .venv/lib/python3.9/site-packages/official/vision/image_classification/augment.py\n",
    "\n",
    "\"\"\"\n",
    "replace\n",
    "from tensorflow.python.keras.layers.preprocessing import image_preprocessing as image_ops \n",
    "with\n",
    "from tensorflow.keras.preprocessing import image as image_ops\n",
    "\"\"\"\n",
    "\n",
    "\n",
    "import os\n",
    "\n",
    "# Define the path to the Python file\n",
    "file_path = \"../.venv/lib/python3.9/site-packages/official/vision/image_classification/augment.py\"\n",
    "\n",
    "# Define the lines to be replaced\n",
    "old_line = \"from tensorflow.python.keras.layers.preprocessing import image_preprocessing as image_ops\"\n",
    "new_line = \"from tensorflow.keras.preprocessing import image as image_ops\"\n",
    "\n",
    "# Read the file and copy the old line as a comment, then add the new line\n",
    "with open(file_path, 'r') as file:\n",
    "    lines = file.readlines()\n",
    "\n",
    "with open(file_path, 'w') as file:\n",
    "    for line in lines:\n",
    "        if old_line in line:\n",
    "            file.write(\"# \" + line)  # Comment out the old line\n",
    "            file.write(new_line + '\\n')  # Add the new line\n",
    "        else:\n",
    "            file.write(line)\n",
    "\n",
    "print(f\"Updated {file_path} with new import statement and commented out the old one.\")"
   ]
  },
  {
   "cell_type": "code",
   "execution_count": 4,
   "metadata": {},
   "outputs": [
    {
     "name": "stdout",
     "output_type": "stream",
     "text": [
      "Requirement already satisfied: openai in /Users/maximilianscheel/Desktop/github/Sign2Voice_tensorflow/.venv/lib/python3.9/site-packages (1.5.0)\n",
      "Collecting openai\n",
      "  Using cached openai-1.62.0-py3-none-any.whl.metadata (27 kB)\n",
      "Requirement already satisfied: anyio<5,>=3.5.0 in /Users/maximilianscheel/Desktop/github/Sign2Voice_tensorflow/.venv/lib/python3.9/site-packages (from openai) (4.8.0)\n",
      "Requirement already satisfied: distro<2,>=1.7.0 in /Users/maximilianscheel/Desktop/github/Sign2Voice_tensorflow/.venv/lib/python3.9/site-packages (from openai) (1.9.0)\n",
      "Requirement already satisfied: httpx<1,>=0.23.0 in /Users/maximilianscheel/Desktop/github/Sign2Voice_tensorflow/.venv/lib/python3.9/site-packages (from openai) (0.28.1)\n",
      "Requirement already satisfied: jiter<1,>=0.4.0 in /Users/maximilianscheel/Desktop/github/Sign2Voice_tensorflow/.venv/lib/python3.9/site-packages (from openai) (0.8.2)\n",
      "Requirement already satisfied: pydantic<3,>=1.9.0 in /Users/maximilianscheel/Desktop/github/Sign2Voice_tensorflow/.venv/lib/python3.9/site-packages (from openai) (1.10.21)\n",
      "Requirement already satisfied: sniffio in /Users/maximilianscheel/Desktop/github/Sign2Voice_tensorflow/.venv/lib/python3.9/site-packages (from openai) (1.3.1)\n",
      "Requirement already satisfied: tqdm>4 in /Users/maximilianscheel/Desktop/github/Sign2Voice_tensorflow/.venv/lib/python3.9/site-packages (from openai) (4.67.1)\n",
      "Collecting typing-extensions<5,>=4.11 (from openai)\n",
      "  Using cached typing_extensions-4.12.2-py3-none-any.whl.metadata (3.0 kB)\n",
      "Requirement already satisfied: exceptiongroup>=1.0.2 in /Users/maximilianscheel/Desktop/github/Sign2Voice_tensorflow/.venv/lib/python3.9/site-packages (from anyio<5,>=3.5.0->openai) (1.2.2)\n",
      "Requirement already satisfied: idna>=2.8 in /Users/maximilianscheel/Desktop/github/Sign2Voice_tensorflow/.venv/lib/python3.9/site-packages (from anyio<5,>=3.5.0->openai) (3.10)\n",
      "Requirement already satisfied: certifi in /Users/maximilianscheel/Desktop/github/Sign2Voice_tensorflow/.venv/lib/python3.9/site-packages (from httpx<1,>=0.23.0->openai) (2025.1.31)\n",
      "Requirement already satisfied: httpcore==1.* in /Users/maximilianscheel/Desktop/github/Sign2Voice_tensorflow/.venv/lib/python3.9/site-packages (from httpx<1,>=0.23.0->openai) (1.0.7)\n",
      "Requirement already satisfied: h11<0.15,>=0.13 in /Users/maximilianscheel/Desktop/github/Sign2Voice_tensorflow/.venv/lib/python3.9/site-packages (from httpcore==1.*->httpx<1,>=0.23.0->openai) (0.14.0)\n",
      "Downloading openai-1.62.0-py3-none-any.whl (464 kB)\n",
      "Using cached typing_extensions-4.12.2-py3-none-any.whl (37 kB)\n",
      "Installing collected packages: typing-extensions, openai\n",
      "  Attempting uninstall: typing-extensions\n",
      "    Found existing installation: typing_extensions 4.5.0\n",
      "    Uninstalling typing_extensions-4.5.0:\n",
      "      Successfully uninstalled typing_extensions-4.5.0\n",
      "  Attempting uninstall: openai\n",
      "    Found existing installation: openai 1.5.0\n",
      "    Uninstalling openai-1.5.0:\n",
      "      Successfully uninstalled openai-1.5.0\n",
      "\u001b[31mERROR: pip's dependency resolver does not currently take into account all the packages that are installed. This behaviour is the source of the following dependency conflicts.\n",
      "tensorflow-macos 2.13.0 requires protobuf!=4.21.0,!=4.21.1,!=4.21.2,!=4.21.3,!=4.21.4,!=4.21.5,<5.0.0dev,>=3.20.3, but you have protobuf 5.29.3 which is incompatible.\n",
      "tensorflow-macos 2.13.0 requires typing-extensions<4.6.0,>=3.6.6, but you have typing-extensions 4.12.2 which is incompatible.\u001b[0m\u001b[31m\n",
      "\u001b[0mSuccessfully installed openai-1.62.0 typing-extensions-4.12.2\n",
      "\n",
      "\u001b[1m[\u001b[0m\u001b[34;49mnotice\u001b[0m\u001b[1;39;49m]\u001b[0m\u001b[39;49m A new release of pip is available: \u001b[0m\u001b[31;49m24.3.1\u001b[0m\u001b[39;49m -> \u001b[0m\u001b[32;49m25.0.1\u001b[0m\n",
      "\u001b[1m[\u001b[0m\u001b[34;49mnotice\u001b[0m\u001b[1;39;49m]\u001b[0m\u001b[39;49m To update, run: \u001b[0m\u001b[32;49mpip install --upgrade pip\u001b[0m\n"
     ]
    }
   ],
   "source": [
    "!pip install --upgrade openai"
   ]
  }
 ],
 "metadata": {
  "kernelspec": {
   "display_name": ".venv",
   "language": "python",
   "name": "python3"
  },
  "language_info": {
   "codemirror_mode": {
    "name": "ipython",
    "version": 3
   },
   "file_extension": ".py",
   "mimetype": "text/x-python",
   "name": "python",
   "nbconvert_exporter": "python",
   "pygments_lexer": "ipython3",
   "version": "3.9.21"
  }
 },
 "nbformat": 4,
 "nbformat_minor": 2
}
